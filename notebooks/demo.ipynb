{
 "cells": [
  {
   "cell_type": "markdown",
   "metadata": {},
   "source": [
    "# Gaussian Mixture Model with Expectation-Maximization\n",
    "\n",
    "This notebook demonstrates the implementation of a Gaussian Mixture Model (GMM) using the Expectation-Maximization (EM) algorithm from scratch.\n",
    "\n",
    "## Overview\n",
    "\n",
    "A Gaussian Mixture Model assumes that the data comes from a mixture of K multivariate Gaussian distributions. The EM algorithm iteratively estimates:\n",
    "\n",
    "- **E-step**: Compute posterior probabilities (responsibilities) of each data point belonging to each component\n",
    "- **M-step**: Update model parameters (means, covariances, mixing weights) based on responsibilities\n",
    "\n",
    "Let's start by importing the necessary libraries and our custom implementation."
   ]
  },
  {
   "cell_type": "code",
   "execution_count": null,
   "metadata": {},
   "outputs": [],
   "source": [
    "import sys\n",
    "import os\n",
    "sys.path.append(os.path.join('..', 'algorithm'))\n",
    "sys.path.append(os.path.join('..', 'data'))\n",
    "\n",
    "import numpy as np\n",
    "import matplotlib.pyplot as plt\n",
    "from matplotlib.patches import Ellipse\n",
    "from matplotlib.colors import ListedColormap\n",
    "import matplotlib.animation as animation\n",
    "\n",
    "from gmm_em import GaussianMixtureEM\n",
    "from synthetic import generate_2d_blobs, generate_elongated_clusters, generate_concentric_circles\n",
    "\n",
    "# Set style for better plots\n",
    "plt.style.use('seaborn-v0_8' if 'seaborn-v0_8' in plt.style.available else 'default')\n",
    "plt.rcParams['figure.figsize'] = (12, 8)\n",
    "plt.rcParams['font.size'] = 12\n",
    "\n",
    "# Set random seed for reproducibility\n",
    "np.random.seed(42)"
   ]
  },
  {
   "cell_type": "markdown",
   "metadata": {},
   "source": [
    "## 1. Generate Synthetic Data\n",
    "\n",
    "Let's create a 2D synthetic dataset with three Gaussian clusters that have different shapes and orientations."
